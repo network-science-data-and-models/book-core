{
 "cells": [
  {
   "cell_type": "markdown",
   "id": "e79e4c5b",
   "metadata": {},
   "source": [
    "# Chapter 22: Network Filtering/Thresholding"
   ]
  },
  {
   "cell_type": "code",
   "execution_count": null,
   "id": "f3d7dbf1",
   "metadata": {},
   "outputs": [],
   "source": []
  }
 ],
 "metadata": {
  "kernelspec": {
   "display_name": "Python 3",
   "language": "python",
   "name": "python3"
  },
  "language_info": {
   "codemirror_mode": {
    "name": "ipython",
    "version": 3
   },
   "file_extension": ".py",
   "mimetype": "text/x-python",
   "name": "python",
   "nbconvert_exporter": "python",
   "pygments_lexer": "ipython3",
   "version": "3.9.19"
  }
 },
 "nbformat": 4,
 "nbformat_minor": 5
}
